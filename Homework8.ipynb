{
 "cells": [
  {
   "cell_type": "code",
   "execution_count": 5,
   "metadata": {},
   "outputs": [],
   "source": [
    "import numpy as np\n",
    "import scipy.stats as ss\n",
    "import matplotlib.pyplot as plt\n",
    "import matplotlib.mlab as mb"
   ]
  },
  {
   "cell_type": "code",
   "execution_count": 6,
   "metadata": {},
   "outputs": [
    {
     "data": {
      "text/plain": [
       "(0.7820906249999999, 0.005625407272639265)"
      ]
     },
     "execution_count": 6,
     "metadata": {},
     "output_type": "execute_result"
    }
   ],
   "source": [
    "M = 400000\n",
    "m = 300000\n",
    "errorM = 500\n",
    "errorm = 1000\n",
    "g = 6.67384 * 10**-11\n",
    "R = 3.2\n",
    "errorR = 0.01\n",
    "F = g * M * m / R**2\n",
    "errorF = F * np.sqrt((errorM/M)**2 + (errorm/m)**2 + 4 * (errorR/R)**2)\n",
    "F, errorF"
   ]
  },
  {
   "cell_type": "code",
   "execution_count": 7,
   "metadata": {},
   "outputs": [],
   "source": [
    "# Посчитаем распределение для F"
   ]
  },
  {
   "cell_type": "code",
   "execution_count": 8,
   "metadata": {},
   "outputs": [],
   "source": [
    "distM = np.random.standard_normal(1000000)*errorM + M\n",
    "distm = np.random.standard_normal(1000000)*errorm + m\n",
    "distR = np.random.standard_normal(1000000)*errorR + R\n",
    "distF = distM * distm * g / distR**2"
   ]
  },
  {
   "cell_type": "code",
   "execution_count": 14,
   "metadata": {},
   "outputs": [
    {
     "name": "stderr",
     "output_type": "stream",
     "text": [
      "/srv/conda/lib/python3.6/site-packages/ipykernel_launcher.py:2: MatplotlibDeprecationWarning: scipy.stats.norm.pdf\n",
      "  \n"
     ]
    },
    {
     "data": {
      "image/png": "[encoded data removed]",
      "text/plain": [
       "<Figure size 432x288 with 1 Axes>"
      ]
     },
     "metadata": {
      "needs_background": "light"
     },
     "output_type": "display_data"
    }
   ],
   "source": [
    "x = np.arange(F - 4*errorF, F + 4*errorF, 0.001)\n",
    "plt.plot(x, mb.normpdf(x, F, errorF))\n",
    "plt.hist(distF, normed=True, bins=30)\n",
    "plt.show()"
   ]
  },
  {
   "cell_type": "code",
   "execution_count": 15,
   "metadata": {},
   "outputs": [],
   "source": [
    "# То же самое с увеличенными погрешностями"
   ]
  },
  {
   "cell_type": "code",
   "execution_count": 17,
   "metadata": {},
   "outputs": [
    {
     "data": {
      "text/plain": [
       "(0.7820906249999999, 0.5553593043410237)"
      ]
     },
     "execution_count": 17,
     "metadata": {},
     "output_type": "execute_result"
    }
   ],
   "source": [
    "M = 400000\n",
    "m = 300000\n",
    "errorM = 20000\n",
    "errorm = 100000\n",
    "g = 6.67384 * 10**-11\n",
    "R = 3.2\n",
    "errorR = 1\n",
    "F = g * M * m / R**2\n",
    "errorF = F * np.sqrt((errorM/M)**2 + (errorm/m)**2 + 4 * (errorR/R)**2)\n",
    "F, errorF"
   ]
  },
  {
   "cell_type": "code",
   "execution_count": 18,
   "metadata": {},
   "outputs": [],
   "source": [
    "# Погрешность становится порядка среднего значения"
   ]
  },
  {
   "cell_type": "code",
   "execution_count": 19,
   "metadata": {},
   "outputs": [],
   "source": [
    "distM = np.random.standard_normal(1000000)*errorM + M\n",
    "distm = np.random.standard_normal(1000000)*errorm + m\n",
    "distR = np.random.standard_normal(1000000)*errorR + R\n",
    "distF = distM * distm * g / distR**2"
   ]
  },
  {
   "cell_type": "code",
   "execution_count": 20,
   "metadata": {},
   "outputs": [
    {
     "name": "stderr",
     "output_type": "stream",
     "text": [
      "/srv/conda/lib/python3.6/site-packages/ipykernel_launcher.py:2: MatplotlibDeprecationWarning: scipy.stats.norm.pdf\n",
      "  \n"
     ]
    },
    {
     "data": {
      "image/png": "[encoded data removed]",
      "text/plain": [
       "<Figure size 432x288 with 1 Axes>"
      ]
     },
     "metadata": {
      "needs_background": "light"
     },
     "output_type": "display_data"
    }
   ],
   "source": [
    "x = np.arange(F - 4*errorF, F + 4*errorF, 0.001)\n",
    "plt.plot(x, mb.normpdf(x, F, errorF))\n",
    "plt.hist(distF, normed=True, bins=30)\n",
    "plt.show()"
   ]
  },
  {
   "cell_type": "code",
   "execution_count": 21,
   "metadata": {},
   "outputs": [],
   "source": [
    "# Монте-Карло в этом случае дает неадекватный результат"
   ]
  },
  {
   "cell_type": "code",
   "execution_count": null,
   "metadata": {},
   "outputs": [],
   "source": []
  }
 ],
 "metadata": {
  "kernelspec": {
   "display_name": "Python 3",
   "language": "python",
   "name": "python3"
  },
  "language_info": {
   "codemirror_mode": {
    "name": "ipython",
    "version": 3
   },
   "file_extension": ".py",
   "mimetype": "text/x-python",
   "name": "python",
   "nbconvert_exporter": "python",
   "pygments_lexer": "ipython3",
   "version": "3.6.7"
  }
 },
 "nbformat": 4,
 "nbformat_minor": 2
}
